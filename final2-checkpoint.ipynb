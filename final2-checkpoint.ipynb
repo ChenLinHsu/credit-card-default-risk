{
 "cells": [
  {
   "cell_type": "code",
   "execution_count": 86,
   "id": "b20fb6fd",
   "metadata": {},
   "outputs": [],
   "source": [
    "import pandas as pd\n",
    "import numpy as np\n",
    "import statsmodels.api as sm\n",
    "import matplotlib.pyplot as plt\n",
    "import seaborn as sns\n",
    "from sklearn import linear_model\n",
    "from sklearn.preprocessing import PolynomialFeatures\n",
    "from sklearn.pipeline import make_pipeline\n",
    "from sklearn.datasets import make_regression\n",
    "from sklearn.model_selection import train_test_split\n",
    "from sklearn.linear_model import LinearRegression\n",
    "from sklearn.linear_model import LogisticRegression"
   ]
  },
  {
   "cell_type": "code",
   "execution_count": 93,
   "id": "52258257",
   "metadata": {},
   "outputs": [
    {
     "data": {
      "text/html": [
       "<div>\n",
       "<style scoped>\n",
       "    .dataframe tbody tr th:only-of-type {\n",
       "        vertical-align: middle;\n",
       "    }\n",
       "\n",
       "    .dataframe tbody tr th {\n",
       "        vertical-align: top;\n",
       "    }\n",
       "\n",
       "    .dataframe thead th {\n",
       "        text-align: right;\n",
       "    }\n",
       "</style>\n",
       "<table border=\"1\" class=\"dataframe\">\n",
       "  <thead>\n",
       "    <tr style=\"text-align: right;\">\n",
       "      <th></th>\n",
       "      <th>X1</th>\n",
       "      <th>X2</th>\n",
       "      <th>X3</th>\n",
       "      <th>X4</th>\n",
       "      <th>X5</th>\n",
       "      <th>X6</th>\n",
       "      <th>X7</th>\n",
       "      <th>X8</th>\n",
       "      <th>X9</th>\n",
       "      <th>X10</th>\n",
       "      <th>...</th>\n",
       "      <th>X15</th>\n",
       "      <th>X16</th>\n",
       "      <th>X17</th>\n",
       "      <th>X18</th>\n",
       "      <th>X19</th>\n",
       "      <th>X20</th>\n",
       "      <th>X21</th>\n",
       "      <th>X22</th>\n",
       "      <th>X23</th>\n",
       "      <th>Y</th>\n",
       "    </tr>\n",
       "  </thead>\n",
       "  <tbody>\n",
       "    <tr>\n",
       "      <th>1</th>\n",
       "      <td>20000</td>\n",
       "      <td>2</td>\n",
       "      <td>2</td>\n",
       "      <td>1</td>\n",
       "      <td>24</td>\n",
       "      <td>2</td>\n",
       "      <td>2</td>\n",
       "      <td>-1</td>\n",
       "      <td>-1</td>\n",
       "      <td>-2</td>\n",
       "      <td>...</td>\n",
       "      <td>0</td>\n",
       "      <td>0</td>\n",
       "      <td>0</td>\n",
       "      <td>0</td>\n",
       "      <td>689</td>\n",
       "      <td>0</td>\n",
       "      <td>0</td>\n",
       "      <td>0</td>\n",
       "      <td>0</td>\n",
       "      <td>1</td>\n",
       "    </tr>\n",
       "    <tr>\n",
       "      <th>2</th>\n",
       "      <td>120000</td>\n",
       "      <td>2</td>\n",
       "      <td>2</td>\n",
       "      <td>2</td>\n",
       "      <td>26</td>\n",
       "      <td>-1</td>\n",
       "      <td>2</td>\n",
       "      <td>0</td>\n",
       "      <td>0</td>\n",
       "      <td>0</td>\n",
       "      <td>...</td>\n",
       "      <td>3272</td>\n",
       "      <td>3455</td>\n",
       "      <td>3261</td>\n",
       "      <td>0</td>\n",
       "      <td>1000</td>\n",
       "      <td>1000</td>\n",
       "      <td>1000</td>\n",
       "      <td>0</td>\n",
       "      <td>2000</td>\n",
       "      <td>1</td>\n",
       "    </tr>\n",
       "    <tr>\n",
       "      <th>3</th>\n",
       "      <td>90000</td>\n",
       "      <td>2</td>\n",
       "      <td>2</td>\n",
       "      <td>2</td>\n",
       "      <td>34</td>\n",
       "      <td>0</td>\n",
       "      <td>0</td>\n",
       "      <td>0</td>\n",
       "      <td>0</td>\n",
       "      <td>0</td>\n",
       "      <td>...</td>\n",
       "      <td>14331</td>\n",
       "      <td>14948</td>\n",
       "      <td>15549</td>\n",
       "      <td>1518</td>\n",
       "      <td>1500</td>\n",
       "      <td>1000</td>\n",
       "      <td>1000</td>\n",
       "      <td>1000</td>\n",
       "      <td>5000</td>\n",
       "      <td>0</td>\n",
       "    </tr>\n",
       "    <tr>\n",
       "      <th>4</th>\n",
       "      <td>50000</td>\n",
       "      <td>2</td>\n",
       "      <td>2</td>\n",
       "      <td>1</td>\n",
       "      <td>37</td>\n",
       "      <td>0</td>\n",
       "      <td>0</td>\n",
       "      <td>0</td>\n",
       "      <td>0</td>\n",
       "      <td>0</td>\n",
       "      <td>...</td>\n",
       "      <td>28314</td>\n",
       "      <td>28959</td>\n",
       "      <td>29547</td>\n",
       "      <td>2000</td>\n",
       "      <td>2019</td>\n",
       "      <td>1200</td>\n",
       "      <td>1100</td>\n",
       "      <td>1069</td>\n",
       "      <td>1000</td>\n",
       "      <td>0</td>\n",
       "    </tr>\n",
       "    <tr>\n",
       "      <th>5</th>\n",
       "      <td>50000</td>\n",
       "      <td>1</td>\n",
       "      <td>2</td>\n",
       "      <td>1</td>\n",
       "      <td>57</td>\n",
       "      <td>-1</td>\n",
       "      <td>0</td>\n",
       "      <td>-1</td>\n",
       "      <td>0</td>\n",
       "      <td>0</td>\n",
       "      <td>...</td>\n",
       "      <td>20940</td>\n",
       "      <td>19146</td>\n",
       "      <td>19131</td>\n",
       "      <td>2000</td>\n",
       "      <td>36681</td>\n",
       "      <td>10000</td>\n",
       "      <td>9000</td>\n",
       "      <td>689</td>\n",
       "      <td>679</td>\n",
       "      <td>0</td>\n",
       "    </tr>\n",
       "    <tr>\n",
       "      <th>...</th>\n",
       "      <td>...</td>\n",
       "      <td>...</td>\n",
       "      <td>...</td>\n",
       "      <td>...</td>\n",
       "      <td>...</td>\n",
       "      <td>...</td>\n",
       "      <td>...</td>\n",
       "      <td>...</td>\n",
       "      <td>...</td>\n",
       "      <td>...</td>\n",
       "      <td>...</td>\n",
       "      <td>...</td>\n",
       "      <td>...</td>\n",
       "      <td>...</td>\n",
       "      <td>...</td>\n",
       "      <td>...</td>\n",
       "      <td>...</td>\n",
       "      <td>...</td>\n",
       "      <td>...</td>\n",
       "      <td>...</td>\n",
       "      <td>...</td>\n",
       "    </tr>\n",
       "    <tr>\n",
       "      <th>29996</th>\n",
       "      <td>220000</td>\n",
       "      <td>1</td>\n",
       "      <td>3</td>\n",
       "      <td>1</td>\n",
       "      <td>39</td>\n",
       "      <td>0</td>\n",
       "      <td>0</td>\n",
       "      <td>0</td>\n",
       "      <td>0</td>\n",
       "      <td>0</td>\n",
       "      <td>...</td>\n",
       "      <td>88004</td>\n",
       "      <td>31237</td>\n",
       "      <td>15980</td>\n",
       "      <td>8500</td>\n",
       "      <td>20000</td>\n",
       "      <td>5003</td>\n",
       "      <td>3047</td>\n",
       "      <td>5000</td>\n",
       "      <td>1000</td>\n",
       "      <td>0</td>\n",
       "    </tr>\n",
       "    <tr>\n",
       "      <th>29997</th>\n",
       "      <td>150000</td>\n",
       "      <td>1</td>\n",
       "      <td>3</td>\n",
       "      <td>2</td>\n",
       "      <td>43</td>\n",
       "      <td>-1</td>\n",
       "      <td>-1</td>\n",
       "      <td>-1</td>\n",
       "      <td>-1</td>\n",
       "      <td>0</td>\n",
       "      <td>...</td>\n",
       "      <td>8979</td>\n",
       "      <td>5190</td>\n",
       "      <td>0</td>\n",
       "      <td>1837</td>\n",
       "      <td>3526</td>\n",
       "      <td>8998</td>\n",
       "      <td>129</td>\n",
       "      <td>0</td>\n",
       "      <td>0</td>\n",
       "      <td>0</td>\n",
       "    </tr>\n",
       "    <tr>\n",
       "      <th>29998</th>\n",
       "      <td>30000</td>\n",
       "      <td>1</td>\n",
       "      <td>2</td>\n",
       "      <td>2</td>\n",
       "      <td>37</td>\n",
       "      <td>4</td>\n",
       "      <td>3</td>\n",
       "      <td>2</td>\n",
       "      <td>-1</td>\n",
       "      <td>0</td>\n",
       "      <td>...</td>\n",
       "      <td>20878</td>\n",
       "      <td>20582</td>\n",
       "      <td>19357</td>\n",
       "      <td>0</td>\n",
       "      <td>0</td>\n",
       "      <td>22000</td>\n",
       "      <td>4200</td>\n",
       "      <td>2000</td>\n",
       "      <td>3100</td>\n",
       "      <td>1</td>\n",
       "    </tr>\n",
       "    <tr>\n",
       "      <th>29999</th>\n",
       "      <td>80000</td>\n",
       "      <td>1</td>\n",
       "      <td>3</td>\n",
       "      <td>1</td>\n",
       "      <td>41</td>\n",
       "      <td>1</td>\n",
       "      <td>-1</td>\n",
       "      <td>0</td>\n",
       "      <td>0</td>\n",
       "      <td>0</td>\n",
       "      <td>...</td>\n",
       "      <td>52774</td>\n",
       "      <td>11855</td>\n",
       "      <td>48944</td>\n",
       "      <td>85900</td>\n",
       "      <td>3409</td>\n",
       "      <td>1178</td>\n",
       "      <td>1926</td>\n",
       "      <td>52964</td>\n",
       "      <td>1804</td>\n",
       "      <td>1</td>\n",
       "    </tr>\n",
       "    <tr>\n",
       "      <th>30000</th>\n",
       "      <td>50000</td>\n",
       "      <td>1</td>\n",
       "      <td>2</td>\n",
       "      <td>1</td>\n",
       "      <td>46</td>\n",
       "      <td>0</td>\n",
       "      <td>0</td>\n",
       "      <td>0</td>\n",
       "      <td>0</td>\n",
       "      <td>0</td>\n",
       "      <td>...</td>\n",
       "      <td>36535</td>\n",
       "      <td>32428</td>\n",
       "      <td>15313</td>\n",
       "      <td>2078</td>\n",
       "      <td>1800</td>\n",
       "      <td>1430</td>\n",
       "      <td>1000</td>\n",
       "      <td>1000</td>\n",
       "      <td>1000</td>\n",
       "      <td>1</td>\n",
       "    </tr>\n",
       "  </tbody>\n",
       "</table>\n",
       "<p>30000 rows × 24 columns</p>\n",
       "</div>"
      ],
      "text/plain": [
       "           X1 X2 X3 X4  X5  X6  X7  X8  X9 X10  ...    X15    X16    X17  \\\n",
       "1       20000  2  2  1  24   2   2  -1  -1  -2  ...      0      0      0   \n",
       "2      120000  2  2  2  26  -1   2   0   0   0  ...   3272   3455   3261   \n",
       "3       90000  2  2  2  34   0   0   0   0   0  ...  14331  14948  15549   \n",
       "4       50000  2  2  1  37   0   0   0   0   0  ...  28314  28959  29547   \n",
       "5       50000  1  2  1  57  -1   0  -1   0   0  ...  20940  19146  19131   \n",
       "...       ... .. .. ..  ..  ..  ..  ..  ..  ..  ...    ...    ...    ...   \n",
       "29996  220000  1  3  1  39   0   0   0   0   0  ...  88004  31237  15980   \n",
       "29997  150000  1  3  2  43  -1  -1  -1  -1   0  ...   8979   5190      0   \n",
       "29998   30000  1  2  2  37   4   3   2  -1   0  ...  20878  20582  19357   \n",
       "29999   80000  1  3  1  41   1  -1   0   0   0  ...  52774  11855  48944   \n",
       "30000   50000  1  2  1  46   0   0   0   0   0  ...  36535  32428  15313   \n",
       "\n",
       "         X18    X19    X20   X21    X22   X23  Y  \n",
       "1          0    689      0     0      0     0  1  \n",
       "2          0   1000   1000  1000      0  2000  1  \n",
       "3       1518   1500   1000  1000   1000  5000  0  \n",
       "4       2000   2019   1200  1100   1069  1000  0  \n",
       "5       2000  36681  10000  9000    689   679  0  \n",
       "...      ...    ...    ...   ...    ...   ... ..  \n",
       "29996   8500  20000   5003  3047   5000  1000  0  \n",
       "29997   1837   3526   8998   129      0     0  0  \n",
       "29998      0      0  22000  4200   2000  3100  1  \n",
       "29999  85900   3409   1178  1926  52964  1804  1  \n",
       "30000   2078   1800   1430  1000   1000  1000  1  \n",
       "\n",
       "[30000 rows x 24 columns]"
      ]
     },
     "execution_count": 93,
     "metadata": {},
     "output_type": "execute_result"
    }
   ],
   "source": [
    "default_client = pd.read_excel('default of credit card clients.xls')\n",
    "default_client.rename(columns={\"Unamed\":\"ID\"},inplace=True)\n",
    "default_client = default_client.drop([0])\n",
    "default_client = default_client.drop(labels=None,axis=1, index=None, columns='Unnamed: 0', inplace=False)\n",
    "default_client"
   ]
  },
  {
   "cell_type": "code",
   "execution_count": null,
   "id": "166043c3",
   "metadata": {},
   "outputs": [],
   "source": []
  },
  {
   "cell_type": "code",
   "execution_count": 94,
   "id": "c05d6e0d",
   "metadata": {},
   "outputs": [],
   "source": [
    "X = default_client.iloc[:,-24:-1]\n",
    "y = default_client.iloc[:,-1]\n"
   ]
  },
  {
   "cell_type": "code",
   "execution_count": 95,
   "id": "288d9a7d",
   "metadata": {},
   "outputs": [
    {
     "name": "stdout",
     "output_type": "stream",
     "text": [
      "                            OLS Regression Results                            \n",
      "==============================================================================\n",
      "Dep. Variable:                      Y   R-squared:                       0.124\n",
      "Model:                            OLS   Adj. R-squared:                  0.123\n",
      "Method:                 Least Squares   F-statistic:                     184.5\n",
      "Date:                Wed, 29 Dec 2021   Prob (F-statistic):               0.00\n",
      "Time:                        23:36:43   Log-Likelihood:                -14202.\n",
      "No. Observations:               30000   AIC:                         2.845e+04\n",
      "Df Residuals:                   29976   BIC:                         2.865e+04\n",
      "Df Model:                          23                                         \n",
      "Covariance Type:            nonrobust                                         \n",
      "==============================================================================\n",
      "                 coef    std err          t      P>|t|      [0.025      0.975]\n",
      "------------------------------------------------------------------------------\n",
      "const          0.3142      0.018     17.541      0.000       0.279       0.349\n",
      "X1         -9.053e-08   2.16e-08     -4.193      0.000   -1.33e-07   -4.82e-08\n",
      "X2            -0.0145      0.005     -3.130      0.002      -0.024      -0.005\n",
      "X3            -0.0151      0.003     -5.022      0.000      -0.021      -0.009\n",
      "X4            -0.0238      0.005     -4.996      0.000      -0.033      -0.014\n",
      "X5             0.0014      0.000      5.128      0.000       0.001       0.002\n",
      "X6             0.0957      0.003     34.596      0.000       0.090       0.101\n",
      "X7             0.0195      0.003      5.828      0.000       0.013       0.026\n",
      "X8             0.0117      0.004      3.256      0.001       0.005       0.019\n",
      "X9             0.0034      0.004      0.846      0.398      -0.004       0.011\n",
      "X10            0.0057      0.004      1.324      0.185      -0.003       0.014\n",
      "X11            0.0008      0.004      0.225      0.822      -0.006       0.008\n",
      "X12        -6.225e-07   1.14e-07     -5.453      0.000   -8.46e-07   -3.99e-07\n",
      "X13         1.587e-07    1.6e-07      0.990      0.322   -1.56e-07    4.73e-07\n",
      "X14         3.005e-08   1.51e-07      0.199      0.842   -2.66e-07    3.26e-07\n",
      "X15        -6.793e-08   1.57e-07     -0.432      0.666   -3.76e-07     2.4e-07\n",
      "X16        -2.049e-08   1.85e-07     -0.111      0.912   -3.82e-07    3.41e-07\n",
      "X17         1.153e-07   1.46e-07      0.789      0.430   -1.71e-07    4.02e-07\n",
      "X18        -7.437e-07   1.77e-07     -4.201      0.000   -1.09e-06   -3.97e-07\n",
      "X19        -2.092e-07   1.46e-07     -1.436      0.151   -4.95e-07    7.63e-08\n",
      "X20        -2.874e-08   1.69e-07     -0.170      0.865    -3.6e-07    3.02e-07\n",
      "X21        -2.521e-07   1.84e-07     -1.371      0.170   -6.13e-07    1.08e-07\n",
      "X22         -3.41e-07   1.91e-07     -1.787      0.074   -7.15e-07     3.3e-08\n",
      "X23         -9.77e-08   1.37e-07     -0.716      0.474   -3.65e-07     1.7e-07\n",
      "==============================================================================\n",
      "Omnibus:                     4682.286   Durbin-Watson:                   2.013\n",
      "Prob(Omnibus):                  0.000   Jarque-Bera (JB):             7285.821\n",
      "Skew:                           1.204   Prob(JB):                         0.00\n",
      "Kurtosis:                       3.178   Cond. No.                     2.10e+06\n",
      "==============================================================================\n",
      "\n",
      "Notes:\n",
      "[1] Standard Errors assume that the covariance matrix of the errors is correctly specified.\n",
      "[2] The condition number is large, 2.1e+06. This might indicate that there are\n",
      "strong multicollinearity or other numerical problems.\n"
     ]
    }
   ],
   "source": [
    "y=default_client.Y.astype(float)\n",
    "model = sm.OLS(y.astype(float), sm.add_constant(X.astype(float))).fit()\n",
    "print(model.summary())\n"
   ]
  },
  {
   "cell_type": "code",
   "execution_count": 105,
   "id": "0c53f4f7",
   "metadata": {},
   "outputs": [],
   "source": [
    "X_train, X_test, y_train, y_test = train_test_split(X, y,train_size=0.7, test_size=0.3, random_state=0)"
   ]
  },
  {
   "cell_type": "code",
   "execution_count": 106,
   "id": "c2cfc9eb",
   "metadata": {},
   "outputs": [],
   "source": [
    "from sklearn.preprocessing  import StandardScaler\n",
    "sc=StandardScaler()\n",
    "\n",
    "sc.fit(X_train)\n",
    "\n",
    "X_train_nor=sc.transform(X_train)\n",
    "X_test_nor=sc.transform(X_test)\n"
   ]
  },
  {
   "cell_type": "code",
   "execution_count": 107,
   "id": "35d34fd8",
   "metadata": {},
   "outputs": [
    {
     "name": "stdout",
     "output_type": "stream",
     "text": [
      "[[-0.08435382 -0.06528474 -0.10115939 -0.09018583  0.06564841  0.59833217\n",
      "   0.12671673  0.08467312  0.00452338  0.03639034  0.05316153 -0.51857921\n",
      "   0.14785954  0.19582457  0.03394476  0.01410915  0.04451855 -0.28608485\n",
      "  -0.25345053 -0.11237668 -0.06463598 -0.0490512  -0.04201652]]\n"
     ]
    }
   ],
   "source": [
    "lr=LogisticRegression()#羅吉斯迴歸分析\n",
    "lr.fit(X_train_nor ,y_train)\n",
    "print(lr.coef_)"
   ]
  },
  {
   "cell_type": "code",
   "execution_count": 108,
   "id": "6e3944fd",
   "metadata": {},
   "outputs": [
    {
     "name": "stdout",
     "output_type": "stream",
     "text": [
      "[-1.45555272]\n"
     ]
    }
   ],
   "source": [
    "print(lr.intercept_ )"
   ]
  },
  {
   "cell_type": "code",
   "execution_count": 109,
   "id": "b36bd04e",
   "metadata": {},
   "outputs": [
    {
     "data": {
      "text/plain": [
       "array([[0.47665402, 0.52334598],\n",
       "       [0.74590314, 0.25409686],\n",
       "       [0.68380349, 0.31619651],\n",
       "       ...,\n",
       "       [0.75161228, 0.24838772],\n",
       "       [0.92558106, 0.07441894],\n",
       "       [0.90768208, 0.09231792]])"
      ]
     },
     "execution_count": 109,
     "metadata": {},
     "output_type": "execute_result"
    }
   ],
   "source": [
    "np.round(lr.predict_proba(X_test_nor),23)\n"
   ]
  },
  {
   "cell_type": "code",
   "execution_count": 110,
   "id": "bb855e50",
   "metadata": {},
   "outputs": [
    {
     "data": {
      "text/plain": [
       "0.8076666666666666"
      ]
     },
     "execution_count": 110,
     "metadata": {},
     "output_type": "execute_result"
    }
   ],
   "source": [
    "score1 = lr.score(X_train_nor, y_train)\n",
    "score1"
   ]
  },
  {
   "cell_type": "code",
   "execution_count": 111,
   "id": "093db433",
   "metadata": {},
   "outputs": [
    {
     "name": "stdout",
     "output_type": "stream",
     "text": [
      "0.8161111111111111\n"
     ]
    }
   ],
   "source": [
    "accuracy = lr.score(X_test_nor, y_test)\n",
    "print(accuracy)"
   ]
  },
  {
   "cell_type": "code",
   "execution_count": 112,
   "id": "adf4dda9",
   "metadata": {},
   "outputs": [],
   "source": [
    "def plot_confusion_matrix(cm, classes,\n",
    "                          normalize=False,\n",
    "                          title='Confusion matrix',\n",
    "                          cmap=plt.cm.Blues):\n",
    "    \"\"\"\n",
    "    This function prints and plots the confusion matrix.\n",
    "    Normalization can be applied by setting `normalize=True`.\n",
    "    \"\"\"\n",
    "    if normalize:\n",
    "        cm = cm.astype('float') / cm.sum(axis=1)[:, np.newaxis]\n",
    "        print(\"Normalized confusion matrix\")\n",
    "    else:\n",
    "        print('Confusion matrix, without normalization')\n",
    "        print(cm)\n",
    "\n",
    "    plt.imshow(cm, interpolation='nearest', cmap=cmap)\n",
    "    plt.title(title)\n",
    "    plt.colorbar()\n",
    "    tick_marks = np.arange(len(classes))\n",
    "    plt.xticks(tick_marks, classes, rotation=45)\n",
    "    plt.yticks(tick_marks, classes)\n",
    "\n",
    "    fmt = '.2f' if normalize else 'd'\n",
    "    thresh = cm.max() / 2.\n",
    "    for i, j in itertools.product(range(cm.shape[0]), range(cm.shape[1])):\n",
    "        plt.text(j, i, format(cm[i, j], fmt),\n",
    "                 horizontalalignment=\"center\",\n",
    "                 color=\"white\" if cm[i, j] > thresh else \"black\")\n",
    "\n",
    "    plt.tight_layout()\n",
    "    plt.ylabel('True label')\n",
    "    plt.xlabel('Predicted label')"
   ]
  },
  {
   "cell_type": "code",
   "execution_count": 113,
   "id": "ca413639",
   "metadata": {},
   "outputs": [
    {
     "name": "stdout",
     "output_type": "stream",
     "text": [
      "混淆矩陣:  [[6897  163]\n",
      " [1492  448]]\n",
      "Confusion matrix, without normalization\n",
      "[[6897  163]\n",
      " [1492  448]]\n"
     ]
    },
    {
     "data": {
      "image/png": "[encoded data removed]",
      "text/plain": [
       "<Figure size 432x288 with 2 Axes>"
      ]
     },
     "metadata": {
      "needs_background": "light"
     },
     "output_type": "display_data"
    }
   ],
   "source": [
    "from sklearn.metrics import confusion_matrix\n",
    "cnf=confusion_matrix(y_test,lr.predict(X_test_nor))\n",
    "print('混淆矩陣: ',cnf)\n",
    "\n",
    "\n",
    "import itertools\n",
    "target_name=['yes','no'] \n",
    "plot_confusion_matrix(cnf,classes=target_name,title='Confusion Matrix')\n",
    "plt.show()"
   ]
  },
  {
   "cell_type": "code",
   "execution_count": 83,
   "id": "e496ac7e",
   "metadata": {},
   "outputs": [
    {
     "data": {
      "text/plain": [
       "0.9769121813031162"
      ]
     },
     "execution_count": 83,
     "metadata": {},
     "output_type": "execute_result"
    }
   ],
   "source": [
    "recall = 6897/(6897+163)\n",
    "recall"
   ]
  },
  {
   "cell_type": "code",
   "execution_count": 84,
   "id": "f4828107",
   "metadata": {},
   "outputs": [
    {
     "data": {
      "text/plain": [
       "0.8221480510191918"
      ]
     },
     "execution_count": 84,
     "metadata": {},
     "output_type": "execute_result"
    }
   ],
   "source": [
    "precision = 6897/(6897+1492)\n",
    "precision"
   ]
  },
  {
   "cell_type": "code",
   "execution_count": 85,
   "id": "f8446c24",
   "metadata": {},
   "outputs": [
    {
     "data": {
      "text/plain": [
       "0.8928733251343128"
      ]
     },
     "execution_count": 85,
     "metadata": {},
     "output_type": "execute_result"
    }
   ],
   "source": [
    "F1 = 2/((1/precision)+(1/recall))\n",
    "F1"
   ]
  }
 ],
 "metadata": {
  "kernelspec": {
   "display_name": "Python 3",
   "language": "python",
   "name": "python3"
  },
  "language_info": {
   "codemirror_mode": {
    "name": "ipython",
    "version": 3
   },
   "file_extension": ".py",
   "mimetype": "text/x-python",
   "name": "python",
   "nbconvert_exporter": "python",
   "pygments_lexer": "ipython3",
   "version": "3.8.8"
  }
 },
 "nbformat": 4,
 "nbformat_minor": 5
}
